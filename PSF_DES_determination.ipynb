{
 "cells": [
  {
   "cell_type": "markdown",
   "metadata": {},
   "source": [
    "# ProperImage con DES Cluster Simulation\n",
    "\n",
    "Analizaremos la PSF de las simulaciones de **DES**.\n",
    "Para ello utilizaremos a properimage para analizar cada imagen y calcular la PSF variable en el espacio.\n",
    "Primero obteniendo las *autopsfs*, luego calculando la PSF estimada en una grilla en el espacio imagen, \n",
    "y por ultimo en la posicion individual de cada galaxia.\n",
    "\n",
    "Posteriormente ajustaremos una gaussiana 2d a cada posicion de la grilla para calcular \n",
    "las propiedades de la psf, y finalmente estimar cantidades como elipticidad."
   ]
  },
  {
   "cell_type": "code",
   "execution_count": 1,
   "metadata": {},
   "outputs": [],
   "source": [
    "import os\n",
    "from glob import glob \n",
    "\n",
    "import numpy as np\n",
    "from astropy.io import fits\n",
    "import matplotlib.pyplot as plt\n",
    "\n",
    "#%matplotlib inline\n",
    "\n",
    "from properimage import single_image as si\n",
    "from properimage import utils\n",
    "from properimage import plot"
   ]
  },
  {
   "cell_type": "code",
   "execution_count": 2,
   "metadata": {},
   "outputs": [],
   "source": [
    "os.chdir('/home/bruno/Devel/DESCSimulation/DES-sextractor/')"
   ]
  },
  {
   "cell_type": "code",
   "execution_count": 3,
   "metadata": {},
   "outputs": [],
   "source": [
    "#librerias propias\n",
    "import psf_DES\n",
    "import test_psf_DES"
   ]
  },
  {
   "cell_type": "code",
   "execution_count": 4,
   "metadata": {
    "collapsed": true
   },
   "outputs": [],
   "source": [
    "from astropy.convolution import convolve"
   ]
  },
  {
   "cell_type": "code",
   "execution_count": 5,
   "metadata": {
    "collapsed": true
   },
   "outputs": [],
   "source": [
    "from astropy.io import ascii\n",
    "from astropy.table import Table, Row"
   ]
  },
  {
   "cell_type": "code",
   "execution_count": 6,
   "metadata": {
    "collapsed": true
   },
   "outputs": [],
   "source": [
    "from astropy.nddata.utils import extract_array"
   ]
  },
  {
   "cell_type": "code",
   "execution_count": 7,
   "metadata": {
    "collapsed": true
   },
   "outputs": [],
   "source": [
    "image_path = os.path.abspath('./../imagenes-LN-PSF')"
   ]
  },
  {
   "cell_type": "code",
   "execution_count": 8,
   "metadata": {},
   "outputs": [],
   "source": [
    "images = glob(pathname=image_path+'/*.fits')"
   ]
  },
  {
   "cell_type": "code",
   "execution_count": 9,
   "metadata": {
    "collapsed": true
   },
   "outputs": [],
   "source": [
    "from astropy.modeling import models, fitting\n",
    "def get_single_psf(x, y, a_fields, psf_basis):\n",
    "    s = np.zeros_like(psf_basis[0])\n",
    "    \n",
    "    for i in range(len(psf_basis)):\n",
    "        s += psf_basis[i]*a_fields[i](x,y)\n",
    "    \n",
    "    x, y = np.mgrid[:s.shape[0], :s.shape[1]]\n",
    "    g2 = models.Gaussian2D(x_stddev=1, y_stddev=1, \n",
    "                           x_mean=s.shape[0]/2, \n",
    "                           y_mean=s.shape[1]/2)\n",
    "    fitter = fitting.LevMarLSQFitter()\n",
    "    \n",
    "    return fitter(g2, x, y, s) "
   ]
  },
  {
   "cell_type": "code",
   "execution_count": 10,
   "metadata": {
    "collapsed": true
   },
   "outputs": [],
   "source": [
    "def write_im2shape_psftab(table, filepath):\n",
    "    with open(filepath, 'w') as f:\n",
    "        f.write('1\\n')\n",
    "        f.write(str(len(table)) + '\\n')\n",
    "        f.write('6\\n')\n",
    "        table.write(f, format='ascii.csv')"
   ]
  },
  {
   "cell_type": "code",
   "execution_count": 11,
   "metadata": {
    "collapsed": true
   },
   "outputs": [],
   "source": [
    "def write_im2shape_gxstab(table, filepath):\n",
    "    with open(filepath, 'w') as f:\n",
    "        f.write('26 '+str(len(table)) + '\\n')\n",
    "        table.write(f, format='ascii.csv')"
   ]
  },
  {
   "cell_type": "code",
   "execution_count": null,
   "metadata": {
    "scrolled": false
   },
   "outputs": [
    {
     "name": "stdout",
     "output_type": "stream",
     "text": [
      " \n",
      " ------------ seeing:  0.81945\n",
      " ------------ imagen:  /home/bruno/Devel/DESCSimulation/imagenes-LN-PSF/im_06_35.fits\n",
      " \n",
      "cantidad de estrellas seleccionadas:  241\n",
      "cantidad de galaxias seleccionadas:  1336\n",
      "Sources good to calculate = 241\n",
      "returning best sources\n",
      "stamps will be 9 x 9\n",
      "('Masked pixels: ', 56210)\n"
     ]
    }
   ],
   "source": [
    "seeing_par = {}\n",
    "seeing_par['pixsize'] = 0.27\n",
    "seeing_par['run'] = 33\n",
    "seeing_par['filter'] = 'R'\n",
    "seeing_par['magmax'] = 23.\n",
    "seeing_par['magmin'] = 18.\n",
    "seeing_par['fwhmmax'] = 4.5\n",
    "seeing_par['plot'] = None\n",
    "for jj in range(len(images)):\n",
    "    seeing_par['img'] = images[jj]\n",
    "\n",
    "    psf_grid_table = seeing_par['img'].strip('.fits') + '_psf_grid.csv'\n",
    "    gxs_table = seeing_par['img'].strip('.fits') + '_gxs.csv'\n",
    "    psf_gxs_table = seeing_par['img'].strip('.fits') + '_psf_gxs.csv'\n",
    "    im2shape_psf_tab = seeing_par['img'].strip('.fits') + '_i2s_psf_tab.csv'\n",
    "    im2shape_gxs_tab = seeing_par['img'].strip('.fits') + '_i2s_gxs_tab.csv'\n",
    "    \n",
    "    af_path = seeing_par['img'].strip('.fits') + '_a_fields.png'\n",
    "    pb_path = seeing_par['img'].strip('.fits') + '_psf_basis.png'\n",
    "\n",
    "    with psf_DES.SingleImageDES(seeing_par=seeing_par, img=images[jj]) as image:\n",
    "        a_fields, psf_basis = image.get_variable_psf(inf_loss=0.0005)\n",
    "        gxs = image.gxs\n",
    "    \n",
    "    x, y = image.get_afield_domain()\n",
    "    plot.plot_afields(a_fields=a_fields, nbook=False, path=af_path)\n",
    "    plot.plot_psfbasis(psf_basis=psf_basis, nbook=False, path=pb_path)\n",
    "    \n",
    "    shx, shy = image.pixeldata.shape\n",
    "    lines = []\n",
    "    for x in np.arange(0, shx, 64):\n",
    "        for y in np.arange(0, shy, 32):\n",
    "            p = get_single_psf(x, y, a_fields, psf_basis)\n",
    "            sx = p.x_stddev.value\n",
    "            sy = p.y_stddev.value\n",
    "            th = ((p.theta.value/np.pi) % 2.)*np.pi  # is in radians\n",
    "            theta=np.rad2deg(th) # in degrees\n",
    "\n",
    "            a = 2*max([sx, sy])\n",
    "            b = 2*min([sx, sy])\n",
    "\n",
    "            ellip = (a - b)/float(a + b)\n",
    "            C=np.zeros((2,2),float)\n",
    "            C[0,0]=2*(((np.cos(th))**2)/a**2+((np.sin(th))**2)/b**2)\n",
    "            C[1,1]=2*((((np.cos(th))**2)/b**2)+(((np.sin(th))**2)/a**2))\n",
    "            C[0,1]=((1/(b**2))-(1/(a**2)))*np.sin(2*th)\n",
    "            C[1,0]=((1/(b**2))-(1/(a**2)))*np.sin(2*th)\n",
    "            A=2*(2*np.pi*np.linalg.det(C))\n",
    "\n",
    "            lines.append([x, y, sx, sy, ellip, th, a*b, a, b, C[0,0], C[0,1], C[1,0], C[1,1], A])\n",
    "    names = ('x', 'y', 'sx', 'sy', 'ellip', 'theta', 'a_times_b', \n",
    "             'a', 'b', 'c11', 'c12', 'c21', 'c22', 'detc')\n",
    "    psf_grid = Table(rows=lines, names=names)\n",
    "    psf_grid.write(psf_grid_table, format='ascii.csv', overwrite=True)\n",
    "\n",
    "    lines = []\n",
    "    for row in gxs:\n",
    "        p = get_single_psf(row['X_IMAGE'], row['Y_IMAGE'], a_fields, psf_basis)\n",
    "        sx = p.x_stddev\n",
    "        sy = p.y_stddev\n",
    "        th = p.theta\n",
    "\n",
    "        a = 2*max([sx, sy])\n",
    "        b = 2*min([sx, sy])\n",
    "\n",
    "        ellip = (a - b)/float(a + b)\n",
    "\n",
    "        lines.append([row['X_IMAGE'], row['Y_IMAGE'], 0., 0., ellip, th-np.pi/4., a*b, 1., a, b])\n",
    "\n",
    "\n",
    "    PSF_ongxs = Table(rows=lines, \n",
    "                      names=('x', 'y', 'zero1', 'zero2', 'ellip', 'theta', 'a_times_b', 'one', 'a', 'b'))\n",
    "    PSF_ongxs.write(psf_gxs_table, format='ascii.csv', overwrite=True)\n",
    "\n",
    "    write_im2shape_psftab(table=gxs, filepath=im2shape_psf_tab)\n",
    "    write_im2shape_gxstab(table=gxs, filepath=im2shape_gxs_tab)\n",
    "\n",
    "    gxs.write(gxs_table, format='ascii.csv', overwrite=True)"
   ]
  },
  {
   "cell_type": "code",
   "execution_count": null,
   "metadata": {
    "collapsed": true
   },
   "outputs": [],
   "source": [
    "for jj in range(len(images)):\n",
    "    seeing_par['img'] = images[jj]\n",
    "\n",
    "    psf_grid_table = seeing_par['img'].strip('.fits') + '_psf_grid.csv'\n",
    "    gxs_table = seeing_par['img'].strip('.fits') + '_gxs.csv'\n",
    "    psf_gxs_table = seeing_par['img'].strip('.fits') + '_psf_gxs.csv'\n",
    "    \n",
    "    psf_table = ascii.read(psf_grid_table)\n",
    "\n",
    "    x = psf_table['x']\n",
    "    y = psf_table['y']\n",
    "    e = psf_table['ellip'] % 2.*np.pi\n",
    "    a = psf_table['a']#1./(1.-psf_table['ellip'])\n",
    "    u = a * np.cos(psf_table['theta'])\n",
    "    v = a * np.sin(psf_table['theta'])\n",
    "    \n",
    "    plt.figure(figsize=(12, 12))\n",
    "    plt.scatter(x, y, c=e, cmap='viridis')\n",
    "    plt.colorbar()\n",
    "    plt.axes().set_aspect('equal')\n",
    "    plt.savefig(seeing_par['img'].strip('.fits') + '_ellip_scatter.png')\n",
    "    \n",
    "    plt.figure(figsize=(12, 12))\n",
    "    plt.scatter(x, y, c=psf_table['detc'], cmap='viridis')\n",
    "    plt.colorbar()\n",
    "    plt.axes().set_aspect('equal')\n",
    "    plt.savefig(seeing_par['img'].strip('.fits') + '_detc_scatter.png')\n",
    "    \n",
    "    f = np.arange(0, len(x), 5)\n",
    "    plt.figure(figsize=(12, 12))\n",
    "    plt.quiver(x[f], y[f], u[f], v[f], psf_table['a_times_b'][f])\n",
    "    plt.axes().set_aspect('equal')\n",
    "    plt.savefig(seeing_par['img'].strip('.fits') + '_angles_areas.png')\n",
    "    \n",
    "    "
   ]
  },
  {
   "cell_type": "code",
   "execution_count": null,
   "metadata": {
    "collapsed": true
   },
   "outputs": [],
   "source": []
  }
 ],
 "metadata": {
  "kernelspec": {
   "display_name": "Python 2",
   "language": "python",
   "name": "python2"
  },
  "language_info": {
   "codemirror_mode": {
    "name": "ipython",
    "version": 2
   },
   "file_extension": ".py",
   "mimetype": "text/x-python",
   "name": "python",
   "nbconvert_exporter": "python",
   "pygments_lexer": "ipython2",
   "version": "2.7.9"
  }
 },
 "nbformat": 4,
 "nbformat_minor": 2
}
